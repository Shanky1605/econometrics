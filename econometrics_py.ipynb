{
  "nbformat": 4,
  "nbformat_minor": 0,
  "metadata": {
    "colab": {
      "provenance": []
    },
    "kernelspec": {
      "name": "python3",
      "display_name": "Python 3"
    },
    "language_info": {
      "name": "python"
    }
  },
  "cells": [
    {
      "cell_type": "code",
      "execution_count": null,
      "metadata": {
        "id": "3Jixg11vGv8i"
      },
      "outputs": [],
      "source": [
        "#importing libraries\n",
        "import pandas as pd\n",
        "import numpy as np\n",
        "import os\n",
        "from scipy import stats\n",
        "import matplotlib.pyplot as plt"
      ]
    },
    {
      "cell_type": "code",
      "source": [
        "data=pd.read_stata(\"data.dta\")"
      ],
      "metadata": {
        "id": "BeBlVyV4HYqX"
      },
      "execution_count": null,
      "outputs": []
    },
    {
      "cell_type": "code",
      "source": [
        "print(data.columns.values)"
      ],
      "metadata": {
        "colab": {
          "base_uri": "https://localhost:8080/"
        },
        "id": "7pZqO28XJJ89",
        "outputId": "128cb6b7-47f6-43a1-8931-efe8594d5393"
      },
      "execution_count": null,
      "outputs": [
        {
          "output_type": "stream",
          "name": "stdout",
          "text": [
            "['pupid' 'test98' 'schid98' 't98' 'yob' 'sex' 'prs991' 'test96_a' 't98sex']\n"
          ]
        }
      ]
    },
    {
      "cell_type": "code",
      "source": [
        "pd.set_option('max_columns',None)"
      ],
      "metadata": {
        "id": "U-0k-v8WH6aM"
      },
      "execution_count": null,
      "outputs": []
    },
    {
      "cell_type": "code",
      "source": [
        "data.head()"
      ],
      "metadata": {
        "colab": {
          "base_uri": "https://localhost:8080/",
          "height": 206
        },
        "id": "lbRpnfyTIQb6",
        "outputId": "eac09b12-4736-45ec-fb3e-5034d1133b8e"
      },
      "execution_count": null,
      "outputs": [
        {
          "output_type": "execute_result",
          "data": {
            "text/plain": [
              "     pupid  test98  schid98  t98  yob  sex  prs991  test96_a  t98sex\n",
              "0  1082047     NaN    108.0    0  NaN  NaN     1.0  239.4375     NaN\n",
              "1  1080620     NaN    108.0    0  NaN  NaN     1.0  239.4375     NaN\n",
              "2  1080604     NaN    108.0    0  NaN  NaN     1.0  239.4375     NaN\n",
              "3  1080607     NaN    108.0    0  NaN  NaN     0.0  239.4375     NaN\n",
              "4  1080609     NaN    108.0    0  NaN  NaN     1.0  239.4375     NaN"
            ],
            "text/html": [
              "\n",
              "  <div id=\"df-4f810a2c-b62c-4460-9f85-ccb4e6d7557f\">\n",
              "    <div class=\"colab-df-container\">\n",
              "      <div>\n",
              "<style scoped>\n",
              "    .dataframe tbody tr th:only-of-type {\n",
              "        vertical-align: middle;\n",
              "    }\n",
              "\n",
              "    .dataframe tbody tr th {\n",
              "        vertical-align: top;\n",
              "    }\n",
              "\n",
              "    .dataframe thead th {\n",
              "        text-align: right;\n",
              "    }\n",
              "</style>\n",
              "<table border=\"1\" class=\"dataframe\">\n",
              "  <thead>\n",
              "    <tr style=\"text-align: right;\">\n",
              "      <th></th>\n",
              "      <th>pupid</th>\n",
              "      <th>test98</th>\n",
              "      <th>schid98</th>\n",
              "      <th>t98</th>\n",
              "      <th>yob</th>\n",
              "      <th>sex</th>\n",
              "      <th>prs991</th>\n",
              "      <th>test96_a</th>\n",
              "      <th>t98sex</th>\n",
              "    </tr>\n",
              "  </thead>\n",
              "  <tbody>\n",
              "    <tr>\n",
              "      <th>0</th>\n",
              "      <td>1082047</td>\n",
              "      <td>NaN</td>\n",
              "      <td>108.0</td>\n",
              "      <td>0</td>\n",
              "      <td>NaN</td>\n",
              "      <td>NaN</td>\n",
              "      <td>1.0</td>\n",
              "      <td>239.4375</td>\n",
              "      <td>NaN</td>\n",
              "    </tr>\n",
              "    <tr>\n",
              "      <th>1</th>\n",
              "      <td>1080620</td>\n",
              "      <td>NaN</td>\n",
              "      <td>108.0</td>\n",
              "      <td>0</td>\n",
              "      <td>NaN</td>\n",
              "      <td>NaN</td>\n",
              "      <td>1.0</td>\n",
              "      <td>239.4375</td>\n",
              "      <td>NaN</td>\n",
              "    </tr>\n",
              "    <tr>\n",
              "      <th>2</th>\n",
              "      <td>1080604</td>\n",
              "      <td>NaN</td>\n",
              "      <td>108.0</td>\n",
              "      <td>0</td>\n",
              "      <td>NaN</td>\n",
              "      <td>NaN</td>\n",
              "      <td>1.0</td>\n",
              "      <td>239.4375</td>\n",
              "      <td>NaN</td>\n",
              "    </tr>\n",
              "    <tr>\n",
              "      <th>3</th>\n",
              "      <td>1080607</td>\n",
              "      <td>NaN</td>\n",
              "      <td>108.0</td>\n",
              "      <td>0</td>\n",
              "      <td>NaN</td>\n",
              "      <td>NaN</td>\n",
              "      <td>0.0</td>\n",
              "      <td>239.4375</td>\n",
              "      <td>NaN</td>\n",
              "    </tr>\n",
              "    <tr>\n",
              "      <th>4</th>\n",
              "      <td>1080609</td>\n",
              "      <td>NaN</td>\n",
              "      <td>108.0</td>\n",
              "      <td>0</td>\n",
              "      <td>NaN</td>\n",
              "      <td>NaN</td>\n",
              "      <td>1.0</td>\n",
              "      <td>239.4375</td>\n",
              "      <td>NaN</td>\n",
              "    </tr>\n",
              "  </tbody>\n",
              "</table>\n",
              "</div>\n",
              "      <button class=\"colab-df-convert\" onclick=\"convertToInteractive('df-4f810a2c-b62c-4460-9f85-ccb4e6d7557f')\"\n",
              "              title=\"Convert this dataframe to an interactive table.\"\n",
              "              style=\"display:none;\">\n",
              "        \n",
              "  <svg xmlns=\"http://www.w3.org/2000/svg\" height=\"24px\"viewBox=\"0 0 24 24\"\n",
              "       width=\"24px\">\n",
              "    <path d=\"M0 0h24v24H0V0z\" fill=\"none\"/>\n",
              "    <path d=\"M18.56 5.44l.94 2.06.94-2.06 2.06-.94-2.06-.94-.94-2.06-.94 2.06-2.06.94zm-11 1L8.5 8.5l.94-2.06 2.06-.94-2.06-.94L8.5 2.5l-.94 2.06-2.06.94zm10 10l.94 2.06.94-2.06 2.06-.94-2.06-.94-.94-2.06-.94 2.06-2.06.94z\"/><path d=\"M17.41 7.96l-1.37-1.37c-.4-.4-.92-.59-1.43-.59-.52 0-1.04.2-1.43.59L10.3 9.45l-7.72 7.72c-.78.78-.78 2.05 0 2.83L4 21.41c.39.39.9.59 1.41.59.51 0 1.02-.2 1.41-.59l7.78-7.78 2.81-2.81c.8-.78.8-2.07 0-2.86zM5.41 20L4 18.59l7.72-7.72 1.47 1.35L5.41 20z\"/>\n",
              "  </svg>\n",
              "      </button>\n",
              "      \n",
              "  <style>\n",
              "    .colab-df-container {\n",
              "      display:flex;\n",
              "      flex-wrap:wrap;\n",
              "      gap: 12px;\n",
              "    }\n",
              "\n",
              "    .colab-df-convert {\n",
              "      background-color: #E8F0FE;\n",
              "      border: none;\n",
              "      border-radius: 50%;\n",
              "      cursor: pointer;\n",
              "      display: none;\n",
              "      fill: #1967D2;\n",
              "      height: 32px;\n",
              "      padding: 0 0 0 0;\n",
              "      width: 32px;\n",
              "    }\n",
              "\n",
              "    .colab-df-convert:hover {\n",
              "      background-color: #E2EBFA;\n",
              "      box-shadow: 0px 1px 2px rgba(60, 64, 67, 0.3), 0px 1px 3px 1px rgba(60, 64, 67, 0.15);\n",
              "      fill: #174EA6;\n",
              "    }\n",
              "\n",
              "    [theme=dark] .colab-df-convert {\n",
              "      background-color: #3B4455;\n",
              "      fill: #D2E3FC;\n",
              "    }\n",
              "\n",
              "    [theme=dark] .colab-df-convert:hover {\n",
              "      background-color: #434B5C;\n",
              "      box-shadow: 0px 1px 3px 1px rgba(0, 0, 0, 0.15);\n",
              "      filter: drop-shadow(0px 1px 2px rgba(0, 0, 0, 0.3));\n",
              "      fill: #FFFFFF;\n",
              "    }\n",
              "  </style>\n",
              "\n",
              "      <script>\n",
              "        const buttonEl =\n",
              "          document.querySelector('#df-4f810a2c-b62c-4460-9f85-ccb4e6d7557f button.colab-df-convert');\n",
              "        buttonEl.style.display =\n",
              "          google.colab.kernel.accessAllowed ? 'block' : 'none';\n",
              "\n",
              "        async function convertToInteractive(key) {\n",
              "          const element = document.querySelector('#df-4f810a2c-b62c-4460-9f85-ccb4e6d7557f');\n",
              "          const dataTable =\n",
              "            await google.colab.kernel.invokeFunction('convertToInteractive',\n",
              "                                                     [key], {});\n",
              "          if (!dataTable) return;\n",
              "\n",
              "          const docLinkHtml = 'Like what you see? Visit the ' +\n",
              "            '<a target=\"_blank\" href=https://colab.research.google.com/notebooks/data_table.ipynb>data table notebook</a>'\n",
              "            + ' to learn more about interactive tables.';\n",
              "          element.innerHTML = '';\n",
              "          dataTable['output_type'] = 'display_data';\n",
              "          await google.colab.output.renderOutput(dataTable, element);\n",
              "          const docLink = document.createElement('div');\n",
              "          docLink.innerHTML = docLinkHtml;\n",
              "          element.appendChild(docLink);\n",
              "        }\n",
              "      </script>\n",
              "    </div>\n",
              "  </div>\n",
              "  "
            ]
          },
          "metadata": {},
          "execution_count": 5
        }
      ]
    },
    {
      "cell_type": "code",
      "source": [
        "data.describe()"
      ],
      "metadata": {
        "colab": {
          "base_uri": "https://localhost:8080/",
          "height": 364
        },
        "id": "n3oHjbLbJDcj",
        "outputId": "57ce7b98-0a80-406d-990e-9fe3f867dcd5"
      },
      "execution_count": null,
      "outputs": [
        {
          "output_type": "execute_result",
          "data": {
            "text/plain": [
              "              pupid        test98       schid98           t98           yob  \\\n",
              "count  2.952400e+04  15136.000000  26130.000000  29524.000000  18037.000000   \n",
              "mean   2.124396e+06      0.008386    224.143169      0.335253     85.243278   \n",
              "std    6.276686e+05      0.999885    119.477492      0.472087      2.922566   \n",
              "min    1.080001e+06     -4.492284    108.000000      0.000000     77.000000   \n",
              "25%    1.672414e+06     -0.703585    168.000000      0.000000     83.000000   \n",
              "50%    2.082038e+06     -0.093528    208.000000      0.000000     85.000000   \n",
              "75%    2.706014e+06      0.618686    270.000000      1.000000     87.000000   \n",
              "max    9.146209e+06      5.122027   8888.000000      1.000000     95.000000   \n",
              "\n",
              "                sex        prs991      test96_a        t98sex  \n",
              "count  21316.000000  20398.000000  25536.000000  21316.000000  \n",
              "mean       0.520642      0.728307    257.286377      0.184462  \n",
              "std        0.499585      0.444844     24.689320      0.387870  \n",
              "min        0.000000      0.000000    188.622498      0.000000  \n",
              "25%        0.000000      0.000000    242.434998      0.000000  \n",
              "50%        1.000000      1.000000    257.595001      0.000000  \n",
              "75%        1.000000      1.000000    267.084991      0.000000  \n",
              "max        1.000000      1.000000    341.045013      1.000000  "
            ],
            "text/html": [
              "\n",
              "  <div id=\"df-534e8393-1dd9-4529-bc0c-2116249a10b3\">\n",
              "    <div class=\"colab-df-container\">\n",
              "      <div>\n",
              "<style scoped>\n",
              "    .dataframe tbody tr th:only-of-type {\n",
              "        vertical-align: middle;\n",
              "    }\n",
              "\n",
              "    .dataframe tbody tr th {\n",
              "        vertical-align: top;\n",
              "    }\n",
              "\n",
              "    .dataframe thead th {\n",
              "        text-align: right;\n",
              "    }\n",
              "</style>\n",
              "<table border=\"1\" class=\"dataframe\">\n",
              "  <thead>\n",
              "    <tr style=\"text-align: right;\">\n",
              "      <th></th>\n",
              "      <th>pupid</th>\n",
              "      <th>test98</th>\n",
              "      <th>schid98</th>\n",
              "      <th>t98</th>\n",
              "      <th>yob</th>\n",
              "      <th>sex</th>\n",
              "      <th>prs991</th>\n",
              "      <th>test96_a</th>\n",
              "      <th>t98sex</th>\n",
              "    </tr>\n",
              "  </thead>\n",
              "  <tbody>\n",
              "    <tr>\n",
              "      <th>count</th>\n",
              "      <td>2.952400e+04</td>\n",
              "      <td>15136.000000</td>\n",
              "      <td>26130.000000</td>\n",
              "      <td>29524.000000</td>\n",
              "      <td>18037.000000</td>\n",
              "      <td>21316.000000</td>\n",
              "      <td>20398.000000</td>\n",
              "      <td>25536.000000</td>\n",
              "      <td>21316.000000</td>\n",
              "    </tr>\n",
              "    <tr>\n",
              "      <th>mean</th>\n",
              "      <td>2.124396e+06</td>\n",
              "      <td>0.008386</td>\n",
              "      <td>224.143169</td>\n",
              "      <td>0.335253</td>\n",
              "      <td>85.243278</td>\n",
              "      <td>0.520642</td>\n",
              "      <td>0.728307</td>\n",
              "      <td>257.286377</td>\n",
              "      <td>0.184462</td>\n",
              "    </tr>\n",
              "    <tr>\n",
              "      <th>std</th>\n",
              "      <td>6.276686e+05</td>\n",
              "      <td>0.999885</td>\n",
              "      <td>119.477492</td>\n",
              "      <td>0.472087</td>\n",
              "      <td>2.922566</td>\n",
              "      <td>0.499585</td>\n",
              "      <td>0.444844</td>\n",
              "      <td>24.689320</td>\n",
              "      <td>0.387870</td>\n",
              "    </tr>\n",
              "    <tr>\n",
              "      <th>min</th>\n",
              "      <td>1.080001e+06</td>\n",
              "      <td>-4.492284</td>\n",
              "      <td>108.000000</td>\n",
              "      <td>0.000000</td>\n",
              "      <td>77.000000</td>\n",
              "      <td>0.000000</td>\n",
              "      <td>0.000000</td>\n",
              "      <td>188.622498</td>\n",
              "      <td>0.000000</td>\n",
              "    </tr>\n",
              "    <tr>\n",
              "      <th>25%</th>\n",
              "      <td>1.672414e+06</td>\n",
              "      <td>-0.703585</td>\n",
              "      <td>168.000000</td>\n",
              "      <td>0.000000</td>\n",
              "      <td>83.000000</td>\n",
              "      <td>0.000000</td>\n",
              "      <td>0.000000</td>\n",
              "      <td>242.434998</td>\n",
              "      <td>0.000000</td>\n",
              "    </tr>\n",
              "    <tr>\n",
              "      <th>50%</th>\n",
              "      <td>2.082038e+06</td>\n",
              "      <td>-0.093528</td>\n",
              "      <td>208.000000</td>\n",
              "      <td>0.000000</td>\n",
              "      <td>85.000000</td>\n",
              "      <td>1.000000</td>\n",
              "      <td>1.000000</td>\n",
              "      <td>257.595001</td>\n",
              "      <td>0.000000</td>\n",
              "    </tr>\n",
              "    <tr>\n",
              "      <th>75%</th>\n",
              "      <td>2.706014e+06</td>\n",
              "      <td>0.618686</td>\n",
              "      <td>270.000000</td>\n",
              "      <td>1.000000</td>\n",
              "      <td>87.000000</td>\n",
              "      <td>1.000000</td>\n",
              "      <td>1.000000</td>\n",
              "      <td>267.084991</td>\n",
              "      <td>0.000000</td>\n",
              "    </tr>\n",
              "    <tr>\n",
              "      <th>max</th>\n",
              "      <td>9.146209e+06</td>\n",
              "      <td>5.122027</td>\n",
              "      <td>8888.000000</td>\n",
              "      <td>1.000000</td>\n",
              "      <td>95.000000</td>\n",
              "      <td>1.000000</td>\n",
              "      <td>1.000000</td>\n",
              "      <td>341.045013</td>\n",
              "      <td>1.000000</td>\n",
              "    </tr>\n",
              "  </tbody>\n",
              "</table>\n",
              "</div>\n",
              "      <button class=\"colab-df-convert\" onclick=\"convertToInteractive('df-534e8393-1dd9-4529-bc0c-2116249a10b3')\"\n",
              "              title=\"Convert this dataframe to an interactive table.\"\n",
              "              style=\"display:none;\">\n",
              "        \n",
              "  <svg xmlns=\"http://www.w3.org/2000/svg\" height=\"24px\"viewBox=\"0 0 24 24\"\n",
              "       width=\"24px\">\n",
              "    <path d=\"M0 0h24v24H0V0z\" fill=\"none\"/>\n",
              "    <path d=\"M18.56 5.44l.94 2.06.94-2.06 2.06-.94-2.06-.94-.94-2.06-.94 2.06-2.06.94zm-11 1L8.5 8.5l.94-2.06 2.06-.94-2.06-.94L8.5 2.5l-.94 2.06-2.06.94zm10 10l.94 2.06.94-2.06 2.06-.94-2.06-.94-.94-2.06-.94 2.06-2.06.94z\"/><path d=\"M17.41 7.96l-1.37-1.37c-.4-.4-.92-.59-1.43-.59-.52 0-1.04.2-1.43.59L10.3 9.45l-7.72 7.72c-.78.78-.78 2.05 0 2.83L4 21.41c.39.39.9.59 1.41.59.51 0 1.02-.2 1.41-.59l7.78-7.78 2.81-2.81c.8-.78.8-2.07 0-2.86zM5.41 20L4 18.59l7.72-7.72 1.47 1.35L5.41 20z\"/>\n",
              "  </svg>\n",
              "      </button>\n",
              "      \n",
              "  <style>\n",
              "    .colab-df-container {\n",
              "      display:flex;\n",
              "      flex-wrap:wrap;\n",
              "      gap: 12px;\n",
              "    }\n",
              "\n",
              "    .colab-df-convert {\n",
              "      background-color: #E8F0FE;\n",
              "      border: none;\n",
              "      border-radius: 50%;\n",
              "      cursor: pointer;\n",
              "      display: none;\n",
              "      fill: #1967D2;\n",
              "      height: 32px;\n",
              "      padding: 0 0 0 0;\n",
              "      width: 32px;\n",
              "    }\n",
              "\n",
              "    .colab-df-convert:hover {\n",
              "      background-color: #E2EBFA;\n",
              "      box-shadow: 0px 1px 2px rgba(60, 64, 67, 0.3), 0px 1px 3px 1px rgba(60, 64, 67, 0.15);\n",
              "      fill: #174EA6;\n",
              "    }\n",
              "\n",
              "    [theme=dark] .colab-df-convert {\n",
              "      background-color: #3B4455;\n",
              "      fill: #D2E3FC;\n",
              "    }\n",
              "\n",
              "    [theme=dark] .colab-df-convert:hover {\n",
              "      background-color: #434B5C;\n",
              "      box-shadow: 0px 1px 3px 1px rgba(0, 0, 0, 0.15);\n",
              "      filter: drop-shadow(0px 1px 2px rgba(0, 0, 0, 0.3));\n",
              "      fill: #FFFFFF;\n",
              "    }\n",
              "  </style>\n",
              "\n",
              "      <script>\n",
              "        const buttonEl =\n",
              "          document.querySelector('#df-534e8393-1dd9-4529-bc0c-2116249a10b3 button.colab-df-convert');\n",
              "        buttonEl.style.display =\n",
              "          google.colab.kernel.accessAllowed ? 'block' : 'none';\n",
              "\n",
              "        async function convertToInteractive(key) {\n",
              "          const element = document.querySelector('#df-534e8393-1dd9-4529-bc0c-2116249a10b3');\n",
              "          const dataTable =\n",
              "            await google.colab.kernel.invokeFunction('convertToInteractive',\n",
              "                                                     [key], {});\n",
              "          if (!dataTable) return;\n",
              "\n",
              "          const docLinkHtml = 'Like what you see? Visit the ' +\n",
              "            '<a target=\"_blank\" href=https://colab.research.google.com/notebooks/data_table.ipynb>data table notebook</a>'\n",
              "            + ' to learn more about interactive tables.';\n",
              "          element.innerHTML = '';\n",
              "          dataTable['output_type'] = 'display_data';\n",
              "          await google.colab.output.renderOutput(dataTable, element);\n",
              "          const docLink = document.createElement('div');\n",
              "          docLink.innerHTML = docLinkHtml;\n",
              "          element.appendChild(docLink);\n",
              "        }\n",
              "      </script>\n",
              "    </div>\n",
              "  </div>\n",
              "  "
            ]
          },
          "metadata": {},
          "execution_count": 6
        }
      ]
    },
    {
      "cell_type": "code",
      "source": [
        "#plotting histogram for test scores in 98\n",
        "plt.hist(data['test98'],bins=15)"
      ],
      "metadata": {
        "colab": {
          "base_uri": "https://localhost:8080/",
          "height": 404
        },
        "id": "PY5c-5irJT3U",
        "outputId": "9e6315df-e0ea-48ae-9fbd-a8f7cc02546c"
      },
      "execution_count": null,
      "outputs": [
        {
          "output_type": "execute_result",
          "data": {
            "text/plain": [
              "(array([1.000e+00, 3.000e+00, 1.600e+01, 1.590e+02, 9.260e+02, 3.070e+03,\n",
              "        3.908e+03, 3.366e+03, 2.006e+03, 1.045e+03, 4.330e+02, 1.560e+02,\n",
              "        3.100e+01, 1.300e+01, 3.000e+00]),\n",
              " array([-4.4922843 , -3.8513303 , -3.210376  , -2.569422  , -1.928468  ,\n",
              "        -1.2875139 , -0.64655983, -0.00560573,  0.6353484 ,  1.2763025 ,\n",
              "         1.9172565 ,  2.5582106 ,  3.1991646 ,  3.8401186 ,  4.481073  ,\n",
              "         5.122027  ], dtype=float32),\n",
              " <a list of 15 Patch objects>)"
            ]
          },
          "metadata": {},
          "execution_count": 7
        },
        {
          "output_type": "display_data",
          "data": {
            "text/plain": [
              "<Figure size 432x288 with 1 Axes>"
            ],
            "image/png": "[encoded data removed]"
          },
          "metadata": {
            "needs_background": "light"
          }
        }
      ]
    },
    {
      "cell_type": "code",
      "source": [
        "x=data['test98']"
      ],
      "metadata": {
        "id": "YV_jZf45J0JG"
      },
      "execution_count": null,
      "outputs": []
    },
    {
      "cell_type": "code",
      "source": [
        "import statistics\n"
      ],
      "metadata": {
        "id": "NtO0J_giK0_7"
      },
      "execution_count": null,
      "outputs": []
    },
    {
      "cell_type": "code",
      "source": [
        "print(mean_test98)"
      ],
      "metadata": {
        "colab": {
          "base_uri": "https://localhost:8080/"
        },
        "id": "TZJHjPNcLFfl",
        "outputId": "ba3cc9d5-ac27-4a25-e930-28b266643377"
      },
      "execution_count": null,
      "outputs": [
        {
          "output_type": "stream",
          "name": "stdout",
          "text": [
            "nan\n"
          ]
        }
      ]
    },
    {
      "cell_type": "code",
      "source": [
        "data.isnull().sum()"
      ],
      "metadata": {
        "colab": {
          "base_uri": "https://localhost:8080/"
        },
        "id": "c6HUBrb3ahHm",
        "outputId": "fb42e143-07df-4982-f847-2ef7df34ed5c"
      },
      "execution_count": null,
      "outputs": [
        {
          "output_type": "execute_result",
          "data": {
            "text/plain": [
              "pupid           0\n",
              "test98      14388\n",
              "schid98      3394\n",
              "t98             0\n",
              "yob         11487\n",
              "sex          8208\n",
              "prs991       9126\n",
              "test96_a     3988\n",
              "t98sex       8208\n",
              "dtype: int64"
            ]
          },
          "metadata": {},
          "execution_count": 21
        }
      ]
    },
    {
      "cell_type": "code",
      "source": [
        "data.shape"
      ],
      "metadata": {
        "colab": {
          "base_uri": "https://localhost:8080/"
        },
        "id": "TIKYgf-7arPk",
        "outputId": "2f372602-6fc9-457a-cc50-31a50fb76ad4"
      },
      "execution_count": null,
      "outputs": [
        {
          "output_type": "execute_result",
          "data": {
            "text/plain": [
              "(29524, 9)"
            ]
          },
          "metadata": {},
          "execution_count": 22
        }
      ]
    },
    {
      "cell_type": "code",
      "source": [
        "x"
      ],
      "metadata": {
        "colab": {
          "base_uri": "https://localhost:8080/"
        },
        "id": "ULmszGvWYl7r",
        "outputId": "0cc41671-442e-4439-c404-92da26edd495"
      },
      "execution_count": null,
      "outputs": [
        {
          "output_type": "execute_result",
          "data": {
            "text/plain": [
              "0             NaN\n",
              "1             NaN\n",
              "2             NaN\n",
              "3             NaN\n",
              "4             NaN\n",
              "           ...   \n",
              "29519   -1.515768\n",
              "29520         NaN\n",
              "29521         NaN\n",
              "29522    1.423151\n",
              "29523         NaN\n",
              "Name: test98, Length: 29524, dtype: float32"
            ]
          },
          "metadata": {},
          "execution_count": 17
        }
      ]
    },
    {
      "cell_type": "code",
      "source": [
        "new_test98 = data[\"test98\"].dropna()"
      ],
      "metadata": {
        "id": "fVL6PNdYaClu"
      },
      "execution_count": null,
      "outputs": []
    },
    {
      "cell_type": "code",
      "source": [
        "#assigning variables\n",
        "mean_test98=statistics.mean(new_test98)\n",
        "min_test98=min(new_test98)\n",
        "max_test98=max(new_test98)\n",
        "std_test98=new_test98.std()"
      ],
      "metadata": {
        "id": "vs2prNpsbmm8"
      },
      "execution_count": null,
      "outputs": []
    },
    {
      "cell_type": "code",
      "source": [
        "#printing required elements\n",
        "print(mean_test98)\n",
        "print(min_test98)\n",
        "print(max_test98)\n",
        "print(std_test98)"
      ],
      "metadata": {
        "colab": {
          "base_uri": "https://localhost:8080/"
        },
        "id": "J0ifMak2aLJm",
        "outputId": "b84662bf-6ca6-40a3-bcd9-fbca8fcd571f"
      },
      "execution_count": null,
      "outputs": [
        {
          "output_type": "stream",
          "name": "stdout",
          "text": [
            "0.008385922574398207\n",
            "-4.492284297943115\n",
            "5.1220269203186035\n",
            "0.99988514\n"
          ]
        }
      ]
    },
    {
      "cell_type": "code",
      "source": [
        "#tranforming test96_a and storing in test96\n",
        "test96=data[\"test96_a\"].dropna()\n"
      ],
      "metadata": {
        "id": "hh5IyDEZaV_U"
      },
      "execution_count": null,
      "outputs": []
    },
    {
      "cell_type": "code",
      "source": [
        "print(test96)"
      ],
      "metadata": {
        "colab": {
          "base_uri": "https://localhost:8080/"
        },
        "id": "5SgqyNKeclpt",
        "outputId": "dce8644b-0bd5-407d-ea7e-6e15bfc5347f"
      },
      "execution_count": null,
      "outputs": [
        {
          "output_type": "stream",
          "name": "stdout",
          "text": [
            "0        239.437500\n",
            "1        239.437500\n",
            "2        239.437500\n",
            "3        239.437500\n",
            "4        239.437500\n",
            "            ...    \n",
            "25569    248.680008\n",
            "25570    248.680008\n",
            "25571    248.680008\n",
            "25572    248.680008\n",
            "25573    248.680008\n",
            "Name: test96_a, Length: 25536, dtype: float32\n"
          ]
        }
      ]
    },
    {
      "cell_type": "code",
      "source": [
        "box_plot_data=[new_test98,test96]"
      ],
      "metadata": {
        "id": "mlgkK7LScogs"
      },
      "execution_count": null,
      "outputs": []
    },
    {
      "cell_type": "code",
      "source": [
        "plt.boxplot(box_plot_data,labels=[\"new_test98\",\"test96\"])\n",
        "plt.show()"
      ],
      "metadata": {
        "colab": {
          "base_uri": "https://localhost:8080/",
          "height": 321
        },
        "id": "Y2n58qnsdPa1",
        "outputId": "0b3b8823-6a87-4a2d-8f34-7388228f3dc3"
      },
      "execution_count": null,
      "outputs": [
        {
          "output_type": "stream",
          "name": "stderr",
          "text": [
            "/usr/local/lib/python3.7/dist-packages/matplotlib/cbook/__init__.py:1376: VisibleDeprecationWarning: Creating an ndarray from ragged nested sequences (which is a list-or-tuple of lists-or-tuples-or ndarrays with different lengths or shapes) is deprecated. If you meant to do this, you must specify 'dtype=object' when creating the ndarray.\n",
            "  X = np.atleast_1d(X.T if isinstance(X, np.ndarray) else np.asarray(X))\n"
          ]
        },
        {
          "output_type": "display_data",
          "data": {
            "text/plain": [
              "<Figure size 432x288 with 1 Axes>"
            ],
            "image/png": "[encoded data removed]"
          },
          "metadata": {
            "needs_background": "light"
          }
        }
      ]
    },
    {
      "cell_type": "code",
      "source": [
        "#treatment effect 1\n",
        "treated=data.loc[(data[\"t98\"]==1)]\n",
        "control=data.loc[(data[\"t98\"]==0)]\n",
        "  "
      ],
      "metadata": {
        "id": "ZiaIQDzfdgWF"
      },
      "execution_count": null,
      "outputs": []
    },
    {
      "cell_type": "code",
      "source": [
        "print(\"treated: \",treated)\n",
        "print(\"control: \" ,control)"
      ],
      "metadata": {
        "colab": {
          "base_uri": "https://localhost:8080/"
        },
        "id": "U-xtQ2wyhksl",
        "outputId": "27a5b8ff-72a9-49d5-ff37-97a0c2e96392"
      },
      "execution_count": null,
      "outputs": [
        {
          "output_type": "stream",
          "name": "stdout",
          "text": [
            "treated:           pupid    test98  schid98  t98   yob  sex  prs991    test96_a  t98sex\n",
            "617    1095012       NaN    109.0    1  84.0  0.0     1.0  273.809998     0.0\n",
            "655    1170012       NaN    109.0    1  90.0  0.0     NaN  273.809998     0.0\n",
            "874    1093654       NaN    109.0    1   NaN  NaN     1.0  273.809998     NaN\n",
            "902    2106058       NaN    109.0    1   NaN  NaN     NaN  273.809998     NaN\n",
            "921    1156601  0.382599    115.0    1  83.0  NaN     1.0  242.762497     NaN\n",
            "...        ...       ...      ...  ...   ...  ...     ...         ...     ...\n",
            "29513  2862018       NaN      NaN    1   NaN  0.0     1.0         NaN     0.0\n",
            "29518  2795013  0.252795      NaN    1   NaN  1.0     1.0         NaN     1.0\n",
            "29520  2862015       NaN      NaN    1   NaN  0.0     1.0         NaN     0.0\n",
            "29521  2861037       NaN      NaN    1   NaN  1.0     1.0         NaN     1.0\n",
            "29522  2883020  1.423151      NaN    1  87.0  1.0     1.0         NaN     1.0\n",
            "\n",
            "[9898 rows x 9 columns]\n",
            "control:           pupid    test98  schid98  t98   yob  sex  prs991  test96_a  t98sex\n",
            "0      1082047       NaN    108.0    0   NaN  NaN     1.0  239.4375     NaN\n",
            "1      1080620       NaN    108.0    0   NaN  NaN     1.0  239.4375     NaN\n",
            "2      1080604       NaN    108.0    0   NaN  NaN     1.0  239.4375     NaN\n",
            "3      1080607       NaN    108.0    0   NaN  NaN     0.0  239.4375     NaN\n",
            "4      1080609       NaN    108.0    0   NaN  NaN     1.0  239.4375     NaN\n",
            "...        ...       ...      ...  ...   ...  ...     ...       ...     ...\n",
            "29515  2712043       NaN      NaN    0   NaN  1.0     1.0       NaN     0.0\n",
            "29516  2781025       NaN      NaN    0   NaN  0.0     1.0       NaN     0.0\n",
            "29517  1198010       NaN      NaN    0  81.0  1.0     NaN       NaN     0.0\n",
            "29519  2713003 -1.515768      NaN    0  84.0  1.0     1.0       NaN     0.0\n",
            "29523  2111029       NaN      NaN    0   NaN  NaN     1.0       NaN     NaN\n",
            "\n",
            "[19626 rows x 9 columns]\n"
          ]
        }
      ]
    },
    {
      "cell_type": "code",
      "source": [
        "box_plot_2=[treated[\"prs991\"],control[\"prs991\"]]"
      ],
      "metadata": {
        "id": "LdK2b7__lz3t"
      },
      "execution_count": null,
      "outputs": []
    },
    {
      "cell_type": "code",
      "source": [
        "plt.boxplot(box_plot_2)\n",
        "plt.show()"
      ],
      "metadata": {
        "colab": {
          "base_uri": "https://localhost:8080/",
          "height": 320
        },
        "id": "gtsicqU_nXi6",
        "outputId": "b8073d1a-1abf-4a42-ec21-ead964e7ae51"
      },
      "execution_count": null,
      "outputs": [
        {
          "output_type": "stream",
          "name": "stderr",
          "text": [
            "/usr/local/lib/python3.7/dist-packages/matplotlib/cbook/__init__.py:1376: VisibleDeprecationWarning: Creating an ndarray from ragged nested sequences (which is a list-or-tuple of lists-or-tuples-or ndarrays with different lengths or shapes) is deprecated. If you meant to do this, you must specify 'dtype=object' when creating the ndarray.\n",
            "  X = np.atleast_1d(X.T if isinstance(X, np.ndarray) else np.asarray(X))\n"
          ]
        },
        {
          "output_type": "display_data",
          "data": {
            "text/plain": [
              "<Figure size 432x288 with 1 Axes>"
            ],
            "image/png": "[encoded data removed]"
          },
          "metadata": {
            "needs_background": "light"
          }
        }
      ]
    },
    {
      "cell_type": "code",
      "source": [
        "treated=treated.dropna()\n",
        "control=control.dropna()"
      ],
      "metadata": {
        "id": "Pdcqc3pLnhvt"
      },
      "execution_count": null,
      "outputs": []
    },
    {
      "cell_type": "code",
      "source": [
        "box_plot_3=[treated[\"prs991\"],control[\"prs991\"]]\n",
        "plt.boxplot(box_plot_3)\n",
        "plt.show()"
      ],
      "metadata": {
        "colab": {
          "base_uri": "https://localhost:8080/",
          "height": 320
        },
        "id": "n_QO6CqKoTnG",
        "outputId": "9305bc7b-76a2-42a3-fe00-25a4a0a99a24"
      },
      "execution_count": null,
      "outputs": [
        {
          "output_type": "stream",
          "name": "stderr",
          "text": [
            "/usr/local/lib/python3.7/dist-packages/matplotlib/cbook/__init__.py:1376: VisibleDeprecationWarning: Creating an ndarray from ragged nested sequences (which is a list-or-tuple of lists-or-tuples-or ndarrays with different lengths or shapes) is deprecated. If you meant to do this, you must specify 'dtype=object' when creating the ndarray.\n",
            "  X = np.atleast_1d(X.T if isinstance(X, np.ndarray) else np.asarray(X))\n"
          ]
        },
        {
          "output_type": "display_data",
          "data": {
            "text/plain": [
              "<Figure size 432x288 with 1 Axes>"
            ],
            "image/png": "[encoded data removed]"
          },
          "metadata": {
            "needs_background": "light"
          }
        }
      ]
    },
    {
      "cell_type": "code",
      "source": [
        "#  treatment effect 2 conclusion :\n",
        "# Initially we did not find a boxplot because we hvae NaN values \n",
        "# So we dropped the null values and made boxplot "
      ],
      "metadata": {
        "id": "2rtt9RbSof89"
      },
      "execution_count": null,
      "outputs": []
    },
    {
      "cell_type": "code",
      "source": [
        "# for 3rd treatment we will use T-test as we have two different group to compare and we can use null hypothesis and alternate hypothesis\n",
        "treated_participant=treated[\"prs991\"]\n",
        "prs991=data[\"prs991\"].dropna()\n",
        "t_value, p_value = stats.ttest_ind(treated_participant,prs991)"
      ],
      "metadata": {
        "id": "r82FXJgepFZG"
      },
      "execution_count": null,
      "outputs": []
    },
    {
      "cell_type": "code",
      "source": [
        "print('Test statistic is %f' % float(\"{:.6f}\".format(t_value)))\n",
        "print('p-value for two tailed test is %f' % p_value)"
      ],
      "metadata": {
        "colab": {
          "base_uri": "https://localhost:8080/"
        },
        "id": "AFSFn3LKqyem",
        "outputId": "dc550965-e1b1-4f0f-c743-310ef3915eea"
      },
      "execution_count": null,
      "outputs": [
        {
          "output_type": "stream",
          "name": "stdout",
          "text": [
            "Test statistic is 14.897868\n",
            "p-value for two tailed test is 0.000000\n"
          ]
        }
      ]
    },
    {
      "cell_type": "code",
      "source": [
        "#since the p value comes out to be zero hence we conclude there is no significant change in participation after treatment."
      ],
      "metadata": {
        "id": "eul3uQD-q06c"
      },
      "execution_count": null,
      "outputs": []
    },
    {
      "cell_type": "code",
      "source": [
        " "
      ],
      "metadata": {
        "id": "6qqW-klMwxLN"
      },
      "execution_count": null,
      "outputs": []
    }
  ]
}